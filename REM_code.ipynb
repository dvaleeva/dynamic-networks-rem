{
 "cells": [
  {
   "cell_type": "code",
   "execution_count": 1,
   "metadata": {},
   "outputs": [
    {
     "name": "stderr",
     "output_type": "stream",
     "text": [
      "Loading required package: iterators\n",
      "Loading required package: parallel\n"
     ]
    }
   ],
   "source": [
    "library(survival)\n",
    "library(foreach)\n",
    "library(doParallel)\n",
    "library(ggplot2)\n",
    "library(rem)"
   ]
  },
  {
   "cell_type": "code",
   "execution_count": 2,
   "metadata": {},
   "outputs": [
    {
     "data": {
      "text/plain": [
       "[1] ‘1.2.8’"
      ]
     },
     "metadata": {},
     "output_type": "display_data"
    }
   ],
   "source": [
    "packageVersion(\"rem\")"
   ]
  },
  {
   "cell_type": "code",
   "execution_count": 3,
   "metadata": {},
   "outputs": [
    {
     "data": {
      "text/plain": [
       "[1] ‘2.41.3’"
      ]
     },
     "metadata": {},
     "output_type": "display_data"
    }
   ],
   "source": [
    "packageVersion(\"survival\")"
   ]
  },
  {
   "cell_type": "markdown",
   "metadata": {},
   "source": [
    "## Read the data"
   ]
  },
  {
   "cell_type": "code",
   "execution_count": 5,
   "metadata": {},
   "outputs": [
    {
     "data": {
      "text/html": [
       "<table>\n",
       "<thead><tr><th scope=col>X</th><th scope=col>companyBvDID</th><th scope=col>companyName</th><th scope=col>companyCountry</th><th scope=col>companyCity</th><th scope=col>companyMajorSector</th><th scope=col>companyNACESector</th><th scope=col>companyEmployees</th><th scope=col>companyOperatingRevenue</th><th scope=col>companyAssets</th><th scope=col>⋯</th><th scope=col>positionCurrent</th><th scope=col>positionType.1</th><th scope=col>positionAppointment</th><th scope=col>positionResignation</th><th scope=col>appDate</th><th scope=col>year</th><th scope=col>giant1</th><th scope=col>giant2</th><th scope=col>currentDate</th><th scope=col>duration</th></tr></thead>\n",
       "<tbody>\n",
       "\t<tr><td>1285                                     </td><td>DK41853816                               </td><td>HALDOR TOPSOE A/S                        </td><td>DK                                       </td><td>KGS.LYNGBY                               </td><td>Other services                           </td><td>71                                       </td><td>2694                                     </td><td>928709                                   </td><td> 1054497                                 </td><td>⋯                                        </td><td>1                                        </td><td>Board of Directors                       </td><td>1994-09-14                               </td><td>NA                                       </td><td>1994-09-14                               </td><td>1994                                     </td><td>True                                     </td><td>True                                     </td><td>2015-12-01                               </td><td>7748 days 00:00:00.000000000             </td></tr>\n",
       "\t<tr><td>1577                                     </td><td>DK17106589                               </td><td>LAERERNES PENSION FORSIKRINGSAKTIESELSKAB</td><td>DK                                       </td><td>HELLERUP                                 </td><td>Insurance companies                      </td><td>65                                       </td><td>  NA                                     </td><td>732330                                   </td><td>13415875                                 </td><td>⋯                                        </td><td>1                                        </td><td>Board of Directors                       </td><td>1994-12-10                               </td><td>NA                                       </td><td>1994-12-10                               </td><td>1994                                     </td><td>True                                     </td><td>True                                     </td><td>2015-12-01                               </td><td>7661 days 00:00:00.000000000             </td></tr>\n",
       "\t<tr><td>1837                                     </td><td>DK44782510                               </td><td>AVK HOLDING A/S                          </td><td>DK                                       </td><td>GALTEN                                   </td><td>Other services                           </td><td>70                                       </td><td>3153                                     </td><td>587165                                   </td><td>  623792                                 </td><td>⋯                                        </td><td>1                                        </td><td>Board of Directors                       </td><td>1994-12-14                               </td><td>NA                                       </td><td>1994-12-14                               </td><td>1994                                     </td><td>True                                     </td><td>True                                     </td><td>2015-12-01                               </td><td>7657 days 00:00:00.000000000             </td></tr>\n",
       "\t<tr><td>2341                                                                             </td><td>DK11369677                                                                       </td><td><span style=white-space:pre-wrap>POLAR SEAFOOD DENMARK A/S                </span></td><td>DK                                                                               </td><td><span style=white-space:pre-wrap>VODSKOV        </span>                          </td><td>Wholesale &amp; retail trade                                                     </td><td>46                                                                               </td><td> 563                                                                             </td><td>404514                                                                           </td><td><span style=white-space:pre-wrap>  227416</span>                                 </td><td>⋯                                                                                </td><td>1                                                                                </td><td>Board of Directors                                                               </td><td>1994-09-28                                                                       </td><td>NA                                                                               </td><td>1994-09-28                                                                       </td><td>1994                                                                             </td><td>True                                                                             </td><td>True                                                                             </td><td>2015-12-01                                                                       </td><td>7734 days 00:00:00.000000000                                                     </td></tr>\n",
       "\t<tr><td>2352                                                                             </td><td>DKGL67900                                                                        </td><td><span style=white-space:pre-wrap>POLAR SEAFOOD GREENLAND A/S              </span></td><td>DK                                                                               </td><td>NUUK (GODTHAEB)                                                                  </td><td>Wholesale &amp; retail trade                                                     </td><td>46                                                                               </td><td> 835                                                                             </td><td>402950                                                                           </td><td><span style=white-space:pre-wrap>  336934</span>                                 </td><td>⋯                                                                                </td><td>1                                                                                </td><td>Board of Directors                                                               </td><td>1994-09-28                                                                       </td><td>NA                                                                               </td><td>1994-09-28                                                                       </td><td>1994                                                                             </td><td>True                                                                             </td><td>True                                                                             </td><td>2015-12-01                                                                       </td><td>7734 days 00:00:00.000000000                                                     </td></tr>\n",
       "\t<tr><td>2353                                                                             </td><td>DKGL67900                                                                        </td><td><span style=white-space:pre-wrap>POLAR SEAFOOD GREENLAND A/S              </span></td><td>DK                                                                               </td><td>NUUK (GODTHAEB)                                                                  </td><td>Wholesale &amp; retail trade                                                     </td><td>46                                                                               </td><td> 835                                                                             </td><td>402950                                                                           </td><td><span style=white-space:pre-wrap>  336934</span>                                 </td><td>⋯                                                                                </td><td>1                                                                                </td><td>Board of Directors                                                               </td><td>1994-09-28                                                                       </td><td>NA                                                                               </td><td>1994-09-28                                                                       </td><td>1994                                                                             </td><td>True                                                                             </td><td>True                                                                             </td><td>2015-12-01                                                                       </td><td>7734 days 00:00:00.000000000                                                     </td></tr>\n",
       "</tbody>\n",
       "</table>\n"
      ],
      "text/latex": [
       "\\begin{tabular}{r|lllllllllllllllllllllllllllllllllll}\n",
       " X & companyBvDID & companyName & companyCountry & companyCity & companyMajorSector & companyNACESector & companyEmployees & companyOperatingRevenue & companyAssets & ⋯ & positionCurrent & positionType.1 & positionAppointment & positionResignation & appDate & year & giant1 & giant2 & currentDate & duration\\\\\n",
       "\\hline\n",
       "\t 1285                                      & DK41853816                                & HALDOR TOPSOE A/S                         & DK                                        & KGS.LYNGBY                                & Other services                            & 71                                        & 2694                                      & 928709                                    &  1054497                                  & ⋯                                         & 1                                         & Board of Directors                        & 1994-09-14                                & NA                                        & 1994-09-14                                & 1994                                      & True                                      & True                                      & 2015-12-01                                & 7748 days 00:00:00.000000000             \\\\\n",
       "\t 1577                                      & DK17106589                                & LAERERNES PENSION FORSIKRINGSAKTIESELSKAB & DK                                        & HELLERUP                                  & Insurance companies                       & 65                                        &   NA                                      & 732330                                    & 13415875                                  & ⋯                                         & 1                                         & Board of Directors                        & 1994-12-10                                & NA                                        & 1994-12-10                                & 1994                                      & True                                      & True                                      & 2015-12-01                                & 7661 days 00:00:00.000000000             \\\\\n",
       "\t 1837                                      & DK44782510                                & AVK HOLDING A/S                           & DK                                        & GALTEN                                    & Other services                            & 70                                        & 3153                                      & 587165                                    &   623792                                  & ⋯                                         & 1                                         & Board of Directors                        & 1994-12-14                                & NA                                        & 1994-12-14                                & 1994                                      & True                                      & True                                      & 2015-12-01                                & 7657 days 00:00:00.000000000             \\\\\n",
       "\t 2341                                      & DK11369677                                & POLAR SEAFOOD DENMARK A/S                 & DK                                        & VODSKOV                                   & Wholesale \\& retail trade                & 46                                        &  563                                      & 404514                                    &   227416                                  & ⋯                                         & 1                                         & Board of Directors                        & 1994-09-28                                & NA                                        & 1994-09-28                                & 1994                                      & True                                      & True                                      & 2015-12-01                                & 7734 days 00:00:00.000000000             \\\\\n",
       "\t 2352                                      & DKGL67900                                 & POLAR SEAFOOD GREENLAND A/S               & DK                                        & NUUK (GODTHAEB)                           & Wholesale \\& retail trade                & 46                                        &  835                                      & 402950                                    &   336934                                  & ⋯                                         & 1                                         & Board of Directors                        & 1994-09-28                                & NA                                        & 1994-09-28                                & 1994                                      & True                                      & True                                      & 2015-12-01                                & 7734 days 00:00:00.000000000             \\\\\n",
       "\t 2353                                      & DKGL67900                                 & POLAR SEAFOOD GREENLAND A/S               & DK                                        & NUUK (GODTHAEB)                           & Wholesale \\& retail trade                & 46                                        &  835                                      & 402950                                    &   336934                                  & ⋯                                         & 1                                         & Board of Directors                        & 1994-09-28                                & NA                                        & 1994-09-28                                & 1994                                      & True                                      & True                                      & 2015-12-01                                & 7734 days 00:00:00.000000000             \\\\\n",
       "\\end{tabular}\n"
      ],
      "text/markdown": [
       "\n",
       "X | companyBvDID | companyName | companyCountry | companyCity | companyMajorSector | companyNACESector | companyEmployees | companyOperatingRevenue | companyAssets | ⋯ | positionCurrent | positionType.1 | positionAppointment | positionResignation | appDate | year | giant1 | giant2 | currentDate | duration | \n",
       "|---|---|---|---|---|---|\n",
       "| 1285                                      | DK41853816                                | HALDOR TOPSOE A/S                         | DK                                        | KGS.LYNGBY                                | Other services                            | 71                                        | 2694                                      | 928709                                    |  1054497                                  | ⋯                                         | 1                                         | Board of Directors                        | 1994-09-14                                | NA                                        | 1994-09-14                                | 1994                                      | True                                      | True                                      | 2015-12-01                                | 7748 days 00:00:00.000000000              | \n",
       "| 1577                                      | DK17106589                                | LAERERNES PENSION FORSIKRINGSAKTIESELSKAB | DK                                        | HELLERUP                                  | Insurance companies                       | 65                                        |   NA                                      | 732330                                    | 13415875                                  | ⋯                                         | 1                                         | Board of Directors                        | 1994-12-10                                | NA                                        | 1994-12-10                                | 1994                                      | True                                      | True                                      | 2015-12-01                                | 7661 days 00:00:00.000000000              | \n",
       "| 1837                                      | DK44782510                                | AVK HOLDING A/S                           | DK                                        | GALTEN                                    | Other services                            | 70                                        | 3153                                      | 587165                                    |   623792                                  | ⋯                                         | 1                                         | Board of Directors                        | 1994-12-14                                | NA                                        | 1994-12-14                                | 1994                                      | True                                      | True                                      | 2015-12-01                                | 7657 days 00:00:00.000000000              | \n",
       "| 2341                                      | DK11369677                                | POLAR SEAFOOD DENMARK A/S                 | DK                                        | VODSKOV                                   | Wholesale & retail trade                  | 46                                        |  563                                      | 404514                                    |   227416                                  | ⋯                                         | 1                                         | Board of Directors                        | 1994-09-28                                | NA                                        | 1994-09-28                                | 1994                                      | True                                      | True                                      | 2015-12-01                                | 7734 days 00:00:00.000000000              | \n",
       "| 2352                                      | DKGL67900                                 | POLAR SEAFOOD GREENLAND A/S               | DK                                        | NUUK (GODTHAEB)                           | Wholesale & retail trade                  | 46                                        |  835                                      | 402950                                    |   336934                                  | ⋯                                         | 1                                         | Board of Directors                        | 1994-09-28                                | NA                                        | 1994-09-28                                | 1994                                      | True                                      | True                                      | 2015-12-01                                | 7734 days 00:00:00.000000000              | \n",
       "| 2353                                      | DKGL67900                                 | POLAR SEAFOOD GREENLAND A/S               | DK                                        | NUUK (GODTHAEB)                           | Wholesale & retail trade                  | 46                                        |  835                                      | 402950                                    |   336934                                  | ⋯                                         | 1                                         | Board of Directors                        | 1994-09-28                                | NA                                        | 1994-09-28                                | 1994                                      | True                                      | True                                      | 2015-12-01                                | 7734 days 00:00:00.000000000              | \n",
       "\n",
       "\n"
      ],
      "text/plain": [
       "  X    companyBvDID companyName                               companyCountry\n",
       "1 1285 DK41853816   HALDOR TOPSOE A/S                         DK            \n",
       "2 1577 DK17106589   LAERERNES PENSION FORSIKRINGSAKTIESELSKAB DK            \n",
       "3 1837 DK44782510   AVK HOLDING A/S                           DK            \n",
       "4 2341 DK11369677   POLAR SEAFOOD DENMARK A/S                 DK            \n",
       "5 2352 DKGL67900    POLAR SEAFOOD GREENLAND A/S               DK            \n",
       "6 2353 DKGL67900    POLAR SEAFOOD GREENLAND A/S               DK            \n",
       "  companyCity     companyMajorSector       companyNACESector companyEmployees\n",
       "1 KGS.LYNGBY      Other services           71                2694            \n",
       "2 HELLERUP        Insurance companies      65                  NA            \n",
       "3 GALTEN          Other services           70                3153            \n",
       "4 VODSKOV         Wholesale & retail trade 46                 563            \n",
       "5 NUUK (GODTHAEB) Wholesale & retail trade 46                 835            \n",
       "6 NUUK (GODTHAEB) Wholesale & retail trade 46                 835            \n",
       "  companyOperatingRevenue companyAssets ⋯ positionCurrent positionType.1    \n",
       "1 928709                   1054497      ⋯ 1               Board of Directors\n",
       "2 732330                  13415875      ⋯ 1               Board of Directors\n",
       "3 587165                    623792      ⋯ 1               Board of Directors\n",
       "4 404514                    227416      ⋯ 1               Board of Directors\n",
       "5 402950                    336934      ⋯ 1               Board of Directors\n",
       "6 402950                    336934      ⋯ 1               Board of Directors\n",
       "  positionAppointment positionResignation appDate    year giant1 giant2\n",
       "1 1994-09-14          NA                  1994-09-14 1994 True   True  \n",
       "2 1994-12-10          NA                  1994-12-10 1994 True   True  \n",
       "3 1994-12-14          NA                  1994-12-14 1994 True   True  \n",
       "4 1994-09-28          NA                  1994-09-28 1994 True   True  \n",
       "5 1994-09-28          NA                  1994-09-28 1994 True   True  \n",
       "6 1994-09-28          NA                  1994-09-28 1994 True   True  \n",
       "  currentDate duration                    \n",
       "1 2015-12-01  7748 days 00:00:00.000000000\n",
       "2 2015-12-01  7661 days 00:00:00.000000000\n",
       "3 2015-12-01  7657 days 00:00:00.000000000\n",
       "4 2015-12-01  7734 days 00:00:00.000000000\n",
       "5 2015-12-01  7734 days 00:00:00.000000000\n",
       "6 2015-12-01  7734 days 00:00:00.000000000"
      ]
     },
     "metadata": {},
     "output_type": "display_data"
    }
   ],
   "source": [
    "# Orbis dataset, 2015 snapshot\n",
    "# Danish firms with operating revenue > 10k US dollars\n",
    "# Appointments to 'board of directors' during 1994-2014\n",
    "\n",
    "dt <- read.table(\"/data.csv\", sep = \",\", na.strings = \"NA\", header = TRUE, dec = \".\", stringsAsFactors = FALSE)\n",
    "head(dt)"
   ]
  },
  {
   "cell_type": "code",
   "execution_count": 6,
   "metadata": {},
   "outputs": [
    {
     "data": {
      "text/html": [
       "7582"
      ],
      "text/latex": [
       "7582"
      ],
      "text/markdown": [
       "7582"
      ],
      "text/plain": [
       "[1] 7582"
      ]
     },
     "metadata": {},
     "output_type": "display_data"
    }
   ],
   "source": [
    "nrow(dt)"
   ]
  },
  {
   "cell_type": "markdown",
   "metadata": {},
   "source": [
    "## Data preparation"
   ]
  },
  {
   "cell_type": "code",
   "execution_count": null,
   "metadata": {
    "collapsed": true
   },
   "outputs": [],
   "source": [
    "# In order to estimate relational event models, the events have to be ordered,\n",
    "# either according to an ordinal or a continuous event sequence.\n",
    "\n",
    "# The ordinal event sequence simply orders the events and gives each event a place in the sequence.\n",
    "\n",
    "# The continuous event sequence creates an artificial sequence,\n",
    "# ranging from min(datevar) to max(datevar) and matches each event with its place in the artificial event sequence\n",
    "\n",
    "# sort by appDate\n",
    "dt[order(dt$appDate),]"
   ]
  },
  {
   "cell_type": "code",
   "execution_count": 8,
   "metadata": {
    "collapsed": true
   },
   "outputs": [],
   "source": [
    "# Create event sequence and order the data\n",
    "dt <- eventSequence(datevar = dt$appDate, dateformat = '%Y-%m-%d',\n",
    "                    data = dt, type = 'continuous',\n",
    "                    byTime = 'yearly', returnData = TRUE,\n",
    "                    sortData = TRUE)"
   ]
  },
  {
   "cell_type": "code",
   "execution_count": null,
   "metadata": {
    "collapsed": true
   },
   "outputs": [],
   "source": [
    "# Create counting process data set (with null-events): conditional logit setting\n",
    "dts <- createRemDataset(data = dt, sender = dt$companyBvDID, target = dt$positionUCI,\n",
    "                          eventSequence = dt$event.seq.cont, atEventTimesOnly = TRUE, returnInputData = TRUE)"
   ]
  },
  {
   "cell_type": "code",
   "execution_count": 8,
   "metadata": {
    "collapsed": true
   },
   "outputs": [],
   "source": [
    "## Divide up the results: counting process data = 1, original data = 2\n",
    "dtrem <- dts[[1]]\n",
    "dt <- dts[[2]]"
   ]
  },
  {
   "cell_type": "code",
   "execution_count": 9,
   "metadata": {
    "collapsed": true
   },
   "outputs": [],
   "source": [
    "# Sort the data set\n",
    "dtrem <- dtrem[order(dtrem$eventTime), ]"
   ]
  },
  {
   "cell_type": "code",
   "execution_count": 10,
   "metadata": {
    "collapsed": true
   },
   "outputs": [],
   "source": [
    "## Merge all necessary event attribute variables back in\n",
    "dtrem$companyBvDID <- dt$companyBvDID[match(dtrem$eventID, dt$eventID)]\n",
    "dtrem$companyName <- dt$companyName[match(dtrem$eventID, dt$eventID)]\n",
    "dtrem$companyCity <- dt$companyCity[match(dtrem$eventID, dt$eventID)]\n",
    "dtrem$companyMajorSector <- dt$companyMajorSector[match(dtrem$eventID, dt$eventID)]\n",
    "dtrem$companyNACESector <- dt$companyNACESector[match(dtrem$eventID, dt$eventID)]\n",
    "dtrem$companyEmployees <- dt$companyEmployees[match(dtrem$eventID, dt$eventID)]\n",
    "dtrem$companyOperatingRevenue <- dt$companyOperatingRevenue[match(dtrem$eventID, dt$eventID)]\n",
    "dtrem$companyAssets <- dt$companyAssets[match(dtrem$eventID, dt$eventID)]\n",
    "dtrem$companyMarketCap <- dt$companyMarketCap[match(dtrem$eventID, dt$eventID)]\n",
    "dtrem$companyTypeEntity <- dt$companyTypeEntity[match(dtrem$eventID, dt$eventID)]\n",
    "dtrem$companyTickerSymbol <- dt$companyTickerSymbol[match(dtrem$eventID, dt$eventID)]\n",
    "dtrem$companyStatus <- dt$companyStatus[match(dtrem$eventID, dt$eventID)]\n",
    "dtrem$companyMainExchange <- dt$companyMainExchange[match(dtrem$eventID, dt$eventID)]\n",
    "dtrem$companyGUO <- dt$companyGUO[match(dtrem$eventID, dt$eventID)]\n",
    "dtrem$positionUCI <- dt$positionUCI[match(dtrem$eventID, dt$eventID)]\n",
    "dtrem$positionLastName <- dt$positionLastName[match(dtrem$eventID, dt$eventID)]\n",
    "dtrem$positionFullName <- dt$positionFullName[match(dtrem$eventID, dt$eventID)]\n",
    "dtrem$positionGender <- dt$positionGender[match(dtrem$eventID, dt$eventID)]\n",
    "dtrem$positionNationality <- dt$positionNationality[match(dtrem$eventID, dt$eventID)]\n",
    "dtrem$positionResidence <- dt$positionResidence[match(dtrem$eventID, dt$eventID)]\n",
    "dtrem$positionType <- dt$positionType[match(dtrem$eventID, dt$eventID)]\n",
    "dtrem$positionResponsability <- dt$positionResponsability[match(dtrem$eventID, dt$eventID)]\n",
    "dtrem$appDate <- dt$appDate[match(dtrem$eventID, dt$eventID)]\n",
    "dtrem$year <- dt$year[match(dtrem$eventID, dt$eventID)]\n",
    "dtrem$duration <- dt$duration[match(dtrem$eventID, dt$eventID)]"
   ]
  },
  {
   "cell_type": "code",
   "execution_count": 11,
   "metadata": {},
   "outputs": [
    {
     "data": {
      "text/plain": [
       "\n",
       "     0      1 \n",
       "115765   7582 "
      ]
     },
     "metadata": {},
     "output_type": "display_data"
    }
   ],
   "source": [
    "table(dtrem$eventDummy)\n",
    "# We have 123,347 events in total (both observed and potential)\n",
    "# 115,765 of events are potential, 7,582 are observed"
   ]
  },
  {
   "cell_type": "code",
   "execution_count": 12,
   "metadata": {},
   "outputs": [
    {
     "data": {
      "text/plain": [
       "   Min. 1st Qu.  Median    Mean 3rd Qu.    Max. \n",
       "  1.000   5.000   9.000   9.313  14.000  21.000 "
      ]
     },
     "metadata": {},
     "output_type": "display_data"
    }
   ],
   "source": [
    "summary(dtrem$eventTime)\n",
    "# Time: yearly, there are 20 years"
   ]
  },
  {
   "cell_type": "markdown",
   "metadata": {},
   "source": [
    "## Calculating network statistics"
   ]
  },
  {
   "cell_type": "code",
   "execution_count": 14,
   "metadata": {
    "collapsed": true
   },
   "outputs": [],
   "source": [
    "### Calculate network covariates with the halflife = 2 years\n",
    "\n",
    "# Popularity\n",
    "dtrem$dirPopularity2 <- degreeStat(data=dtrem, time=dtrem$eventTime,\n",
    "                                  degreevar=dtrem$target, halflife=2,\n",
    "                                eventvar = dtrem$eventDummy, \n",
    "                                   showprogressbar = FALSE, \n",
    "                                   returnData = FALSE)\n",
    "\n",
    "# Four-cycle\n",
    "dtrem$fourCycle2 <- fourCycleStat(data=dtrem, time=dtrem$eventTime,\n",
    "                                  sender=dtrem$sender,target=dtrem$target, \n",
    "                                  halflife=2, eventvar = dtrem$eventDummy,\n",
    "                                  showprogressbar = FALSE, \n",
    "                                   returnData = FALSE)\n",
    "\n",
    "# Calculate z-scores of the network variables\n",
    "dtrem$dirPopularity2_z <- scale(dtrem$dirPopularity2, center = TRUE, scale = TRUE)\n",
    "dtrem$fourCycle2_z <- scale(dtrem$fourCycle2, center = TRUE, scale = TRUE)"
   ]
  },
  {
   "cell_type": "markdown",
   "metadata": {},
   "source": [
    "## Models"
   ]
  },
  {
   "cell_type": "code",
   "execution_count": 61,
   "metadata": {
    "collapsed": true
   },
   "outputs": [],
   "source": [
    "# Recode gender \n",
    "dtrem$gender_man <- dtrem$positionGender\n",
    "dtrem$gender_man[dtrem$positionGender == '1'] <- 0\n",
    "dtrem$gender_man[dtrem$positionGender == '0'] <- 1\n",
    "\n",
    "# Recode financial firms and banks\n",
    "dtrem$entity <- dtrem$companyTypeEntity\n",
    "dtrem$entity <- factor(dtrem$entity)\n",
    "dtrem$entity_finb[dtrem$entity == 'Bank'] <- 1\n",
    "dtrem$entity_finb[dtrem$entity == 'Financial company'] <- 1\n",
    "dtrem$entity_finb[dtrem$entity == 'Foundation/Research institute'] <- 0\n",
    "dtrem$entity_finb[dtrem$entity == 'Industrial company'] <- 0\n",
    "dtrem$entity_finb[dtrem$entity == 'Insurance company'] <- 0\n",
    "dtrem$entity_finb[dtrem$entity == 'Mutual and pension fund/Nominee/Trust/Trustee'] <- 0\n",
    "dtrem$entity_finb[dtrem$entity == 'Private equity firm'] <- 0"
   ]
  },
  {
   "cell_type": "code",
   "execution_count": 62,
   "metadata": {},
   "outputs": [
    {
     "data": {
      "text/html": [
       "TRUE"
      ],
      "text/latex": [
       "TRUE"
      ],
      "text/markdown": [
       "TRUE"
      ],
      "text/plain": [
       "[1] TRUE"
      ]
     },
     "metadata": {},
     "output_type": "display_data"
    }
   ],
   "source": [
    "df2 <- dtrem[order(dtrem$eventTime), ]\n",
    "is.sorted = Negate(is.unsorted)\n",
    "is.sorted(df2$eventTime)"
   ]
  },
  {
   "cell_type": "code",
   "execution_count": 63,
   "metadata": {},
   "outputs": [
    {
     "data": {
      "text/html": [
       "123347"
      ],
      "text/latex": [
       "123347"
      ],
      "text/markdown": [
       "123347"
      ],
      "text/plain": [
       "[1] 123347"
      ]
     },
     "metadata": {},
     "output_type": "display_data"
    },
    {
     "data": {
      "text/html": [
       "93325"
      ],
      "text/latex": [
       "93325"
      ],
      "text/markdown": [
       "93325"
      ],
      "text/plain": [
       "[1] 93325"
      ]
     },
     "metadata": {},
     "output_type": "display_data"
    }
   ],
   "source": [
    "# Delete first 4 years = halflife*2\n",
    "dtrem2 <- subset(df2, df2$eventTime > 4)\n",
    "nrow(df2);nrow(dtrem2)"
   ]
  },
  {
   "cell_type": "code",
   "execution_count": 64,
   "metadata": {
    "collapsed": true
   },
   "outputs": [],
   "source": [
    "# Run models\n",
    "\n",
    "m01 <- coxph(Surv(rep(1, nrow(dtrem2)), eventDummy) ~ dirPopularity2_z + strata(eventTime),\n",
    "             data=dtrem2)\n",
    "\n",
    "m02 <- coxph(Surv(rep(1, nrow(dtrem2)), eventDummy) ~ dirPopularity2_z + I(dirPopularity2_z^2) + \n",
    "             strata(eventTime), data=dtrem2)\n",
    "\n",
    "m03 <- coxph(Surv(rep(1, nrow(dtrem2)), eventDummy) ~ fourCycle2_z + strata(eventTime), data=dtrem2)\n",
    "\n",
    "m04 <- coxph(Surv(rep(1, nrow(dtrem2)), eventDummy) ~ dirPopularity2_z + I(dirPopularity2_z^2) +\n",
    "             fourCycle2_z + strata(eventTime), data=dtrem2)\n",
    "\n",
    "m05 <- coxph(Surv(rep(1, nrow(dtrem2)), eventDummy) ~ dirPopularity2_z + I(dirPopularity2_z^2) +\n",
    "                fourCycle2_z + gender_man + nationality_dk + entity_finb + companyOperatingRevenue\n",
    "                + strata(eventTime), data=dtrem2)"
   ]
  },
  {
   "cell_type": "code",
   "execution_count": 65,
   "metadata": {},
   "outputs": [
    {
     "data": {
      "text/plain": [
       "Call:\n",
       "coxph(formula = Surv(rep(1, nrow(dtrem2)), eventDummy) ~ dirPopularity2_z + \n",
       "    strata(eventTime), data = dtrem2)\n",
       "\n",
       "  n= 93325, number of events= 7374 \n",
       "\n",
       "                     coef exp(coef) se(coef)     z Pr(>|z|)    \n",
       "dirPopularity2_z 0.063304  1.065351 0.005629 11.24   <2e-16 ***\n",
       "---\n",
       "Signif. codes:  0 ‘***’ 0.001 ‘**’ 0.01 ‘*’ 0.05 ‘.’ 0.1 ‘ ’ 1\n",
       "\n",
       "                 exp(coef) exp(-coef) lower .95 upper .95\n",
       "dirPopularity2_z     1.065     0.9387     1.054     1.077\n",
       "\n",
       "Concordance= 0.557  (se = 0.01 )\n",
       "Rsquare= 0.001   (max possible= 0.713 )\n",
       "Likelihood ratio test= 108.3  on 1 df,   p=0\n",
       "Wald test            = 126.5  on 1 df,   p=0\n",
       "Score (logrank) test = 127.8  on 1 df,   p=0\n"
      ]
     },
     "metadata": {},
     "output_type": "display_data"
    }
   ],
   "source": [
    "summary(m01)"
   ]
  },
  {
   "cell_type": "code",
   "execution_count": 66,
   "metadata": {},
   "outputs": [
    {
     "data": {
      "text/plain": [
       "Call:\n",
       "coxph(formula = Surv(rep(1, nrow(dtrem2)), eventDummy) ~ dirPopularity2_z + \n",
       "    I(dirPopularity2_z^2) + strata(eventTime), data = dtrem2)\n",
       "\n",
       "  n= 93325, number of events= 7374 \n",
       "\n",
       "                           coef exp(coef)  se(coef)      z Pr(>|z|)    \n",
       "dirPopularity2_z       0.157375  1.170435  0.013214 11.909  < 2e-16 ***\n",
       "I(dirPopularity2_z^2) -0.011312  0.988751  0.001562 -7.241 4.45e-13 ***\n",
       "---\n",
       "Signif. codes:  0 ‘***’ 0.001 ‘**’ 0.01 ‘*’ 0.05 ‘.’ 0.1 ‘ ’ 1\n",
       "\n",
       "                      exp(coef) exp(-coef) lower .95 upper .95\n",
       "dirPopularity2_z         1.1704     0.8544    1.1405    1.2011\n",
       "I(dirPopularity2_z^2)    0.9888     1.0114    0.9857    0.9918\n",
       "\n",
       "Concordance= 0.557  (se = 0.01 )\n",
       "Rsquare= 0.002   (max possible= 0.713 )\n",
       "Likelihood ratio test= 172.1  on 2 df,   p=0\n",
       "Wald test            = 188.8  on 2 df,   p=0\n",
       "Score (logrank) test = 191.2  on 2 df,   p=0\n"
      ]
     },
     "metadata": {},
     "output_type": "display_data"
    }
   ],
   "source": [
    "summary(m02)"
   ]
  },
  {
   "cell_type": "code",
   "execution_count": 67,
   "metadata": {},
   "outputs": [
    {
     "data": {
      "text/plain": [
       "Call:\n",
       "coxph(formula = Surv(rep(1, nrow(dtrem2)), eventDummy) ~ fourCycle2_z + \n",
       "    strata(eventTime), data = dtrem2)\n",
       "\n",
       "  n= 93325, number of events= 7374 \n",
       "\n",
       "                 coef exp(coef) se(coef)    z Pr(>|z|)    \n",
       "fourCycle2_z 0.036312  1.036979 0.004364 8.32   <2e-16 ***\n",
       "---\n",
       "Signif. codes:  0 ‘***’ 0.001 ‘**’ 0.01 ‘*’ 0.05 ‘.’ 0.1 ‘ ’ 1\n",
       "\n",
       "             exp(coef) exp(-coef) lower .95 upper .95\n",
       "fourCycle2_z     1.037     0.9643     1.028     1.046\n",
       "\n",
       "Concordance= 0.51  (se = 0.003 )\n",
       "Rsquare= 0.001   (max possible= 0.713 )\n",
       "Likelihood ratio test= 54.88  on 1 df,   p=1.279e-13\n",
       "Wald test            = 69.22  on 1 df,   p=1.11e-16\n",
       "Score (logrank) test = 71.45  on 1 df,   p=0\n"
      ]
     },
     "metadata": {},
     "output_type": "display_data"
    }
   ],
   "source": [
    "summary(m03)"
   ]
  },
  {
   "cell_type": "code",
   "execution_count": 68,
   "metadata": {},
   "outputs": [
    {
     "data": {
      "text/plain": [
       "Call:\n",
       "coxph(formula = Surv(rep(1, nrow(dtrem2)), eventDummy) ~ dirPopularity2_z + \n",
       "    I(dirPopularity2_z^2) + fourCycle2_z + strata(eventTime), \n",
       "    data = dtrem2)\n",
       "\n",
       "  n= 93325, number of events= 7374 \n",
       "\n",
       "                           coef exp(coef)  se(coef)      z Pr(>|z|)    \n",
       "dirPopularity2_z       0.147815  1.159299  0.013489 10.958  < 2e-16 ***\n",
       "I(dirPopularity2_z^2) -0.011034  0.989027  0.001569 -7.030 2.06e-12 ***\n",
       "fourCycle2_z           0.021158  1.021383  0.004653  4.547 5.44e-06 ***\n",
       "---\n",
       "Signif. codes:  0 ‘***’ 0.001 ‘**’ 0.01 ‘*’ 0.05 ‘.’ 0.1 ‘ ’ 1\n",
       "\n",
       "                      exp(coef) exp(-coef) lower .95 upper .95\n",
       "dirPopularity2_z          1.159     0.8626     1.129    1.1904\n",
       "I(dirPopularity2_z^2)     0.989     1.0111     0.986    0.9921\n",
       "fourCycle2_z              1.021     0.9791     1.012    1.0307\n",
       "\n",
       "Concordance= 0.558  (se = 0.01 )\n",
       "Rsquare= 0.002   (max possible= 0.713 )\n",
       "Likelihood ratio test= 190.6  on 3 df,   p=0\n",
       "Wald test            = 214.5  on 3 df,   p=0\n",
       "Score (logrank) test = 218.8  on 3 df,   p=0\n"
      ]
     },
     "metadata": {},
     "output_type": "display_data"
    }
   ],
   "source": [
    "summary(m04)"
   ]
  },
  {
   "cell_type": "code",
   "execution_count": 70,
   "metadata": {},
   "outputs": [
    {
     "data": {
      "text/plain": [
       "Call:\n",
       "coxph(formula = Surv(rep(1, nrow(dtrem2)), eventDummy) ~ dirPopularity2_z + \n",
       "    I(dirPopularity2_z^2) + fourCycle2_z + gender_man + nationality_dk + \n",
       "    entity_finb + companyOperatingRevenue + strata(eventTime), \n",
       "    data = dtrem2)\n",
       "\n",
       "  n= 55901, number of events= 4596 \n",
       "   (37424 observations deleted due to missingness)\n",
       "\n",
       "                                   coef       exp(coef)        se(coef)      z\n",
       "dirPopularity2_z         0.120783029444  1.128380060557  0.014976509504  8.065\n",
       "I(dirPopularity2_z^2)   -0.008591678831  0.991445124166  0.001617501832 -5.312\n",
       "fourCycle2_z             0.024456795004  1.024758315472  0.005720451407  4.275\n",
       "gender_man               0.116280214282  1.123310595708  0.053096239675  2.190\n",
       "nationality_dk           0.117894748578  1.125125684057  0.052723033923  2.236\n",
       "entity_finb              0.072777132311  1.075490818050  0.046773958696  1.556\n",
       "companyOperatingRevenue -0.000000001459  0.999999998541  0.000000005489 -0.266\n",
       "                                    Pr(>|z|)    \n",
       "dirPopularity2_z        0.000000000000000777 ***\n",
       "I(dirPopularity2_z^2)   0.000000108609370164 ***\n",
       "fourCycle2_z            0.000019085775758043 ***\n",
       "gender_man                            0.0285 *  \n",
       "nationality_dk                        0.0253 *  \n",
       "entity_finb                           0.1197    \n",
       "companyOperatingRevenue               0.7904    \n",
       "---\n",
       "Signif. codes:  0 ‘***’ 0.001 ‘**’ 0.01 ‘*’ 0.05 ‘.’ 0.1 ‘ ’ 1\n",
       "\n",
       "                        exp(coef) exp(-coef) lower .95 upper .95\n",
       "dirPopularity2_z           1.1284     0.8862    1.0957    1.1620\n",
       "I(dirPopularity2_z^2)      0.9914     1.0086    0.9883    0.9946\n",
       "fourCycle2_z               1.0248     0.9758    1.0133    1.0363\n",
       "gender_man                 1.1233     0.8902    1.0123    1.2465\n",
       "nationality_dk             1.1251     0.8888    1.0147    1.2476\n",
       "entity_finb                1.0755     0.9298    0.9813    1.1787\n",
       "companyOperatingRevenue    1.0000     1.0000    1.0000    1.0000\n",
       "\n",
       "Concordance= 0.576  (se = 0.022 )\n",
       "Rsquare= 0.002   (max possible= 0.705 )\n",
       "Likelihood ratio test= 132.6  on 7 df,   p=0\n",
       "Wald test            = 144.2  on 7 df,   p=0\n",
       "Score (logrank) test = 147.5  on 7 df,   p=0\n"
      ]
     },
     "metadata": {},
     "output_type": "display_data"
    }
   ],
   "source": [
    "options(scipen = 999)\n",
    "summary(m05)"
   ]
  },
  {
   "cell_type": "markdown",
   "metadata": {},
   "source": [
    "### Model loglikelihood"
   ]
  },
  {
   "cell_type": "code",
   "execution_count": 73,
   "metadata": {},
   "outputs": [
    {
     "data": {
      "text/html": [
       "<table>\n",
       "<thead><tr><th scope=col>loglik</th><th scope=col>Chisq</th><th scope=col>Df</th><th scope=col>P(&gt;|Chi|)</th></tr></thead>\n",
       "<tbody>\n",
       "\t<tr><td>-58246.20              </td><td>       NA              </td><td>NA                     </td><td>                     NA</td></tr>\n",
       "\t<tr><td>-58214.30              </td><td> 63.80073              </td><td> 1                     </td><td>0.000000000000001332268</td></tr>\n",
       "\t<tr><td>-58272.93              </td><td>117.25183              </td><td> 1                     </td><td>0.000000000000000000000</td></tr>\n",
       "\t<tr><td>-58205.09              </td><td>135.67006              </td><td> 2                     </td><td>0.000000000000000000000</td></tr>\n",
       "</tbody>\n",
       "</table>\n"
      ],
      "text/latex": [
       "\\begin{tabular}{r|llll}\n",
       " loglik & Chisq & Df & P(>\\textbar{}Chi\\textbar{})\\\\\n",
       "\\hline\n",
       "\t -58246.20               &        NA               & NA                      &                      NA\\\\\n",
       "\t -58214.30               &  63.80073               &  1                      & 0.000000000000001332268\\\\\n",
       "\t -58272.93               & 117.25183               &  1                      & 0.000000000000000000000\\\\\n",
       "\t -58205.09               & 135.67006               &  2                      & 0.000000000000000000000\\\\\n",
       "\\end{tabular}\n"
      ],
      "text/markdown": [
       "\n",
       "loglik | Chisq | Df | P(>|Chi|) | \n",
       "|---|---|---|---|\n",
       "| -58246.20               |        NA               | NA                      |                      NA | \n",
       "| -58214.30               |  63.80073               |  1                      | 0.000000000000001332268 | \n",
       "| -58272.93               | 117.25183               |  1                      | 0.000000000000000000000 | \n",
       "| -58205.09               | 135.67006               |  2                      | 0.000000000000000000000 | \n",
       "\n",
       "\n"
      ],
      "text/plain": [
       "  loglik    Chisq     Df P(>|Chi|)              \n",
       "1 -58246.20        NA NA                      NA\n",
       "2 -58214.30  63.80073  1 0.000000000000001332268\n",
       "3 -58272.93 117.25183  1 0.000000000000000000000\n",
       "4 -58205.09 135.67006  2 0.000000000000000000000"
      ]
     },
     "metadata": {},
     "output_type": "display_data"
    }
   ],
   "source": [
    "anova(m01,m02,m03,m04)"
   ]
  },
  {
   "cell_type": "code",
   "execution_count": 77,
   "metadata": {},
   "outputs": [
    {
     "data": {
      "text/html": [
       "<table>\n",
       "<thead><tr><th></th><th scope=col>loglik</th><th scope=col>Chisq</th><th scope=col>Df</th><th scope=col>Pr(&gt;|Chi|)</th></tr></thead>\n",
       "<tbody>\n",
       "\t<tr><th scope=row>NULL</th><td>-34164.94              </td><td>         NA            </td><td>NA                     </td><td>                     NA</td></tr>\n",
       "\t<tr><th scope=row>dirPopularity2_z</th><td>-34132.94              </td><td>64.01656116            </td><td> 1                     </td><td>0.000000000000001221245</td></tr>\n",
       "\t<tr><th scope=row>I(dirPopularity2_z^2)</th><td>-34113.77              </td><td>38.32578544            </td><td> 1                     </td><td>0.000000000598663452145</td></tr>\n",
       "\t<tr><th scope=row>fourCycle2_z</th><td>-34105.66              </td><td>16.21648219            </td><td> 1                     </td><td>0.000056500393034841778</td></tr>\n",
       "\t<tr><th scope=row>gender_man</th><td>-34102.69              </td><td> 5.95425921            </td><td> 1                     </td><td>0.014681770876384336866</td></tr>\n",
       "\t<tr><th scope=row>nationality_dk</th><td>-34099.86              </td><td> 5.65717293            </td><td> 1                     </td><td>0.017384122286483671971</td></tr>\n",
       "\t<tr><th scope=row>entity_finb</th><td>-34098.68              </td><td> 2.34735018            </td><td> 1                     </td><td>0.125496167710754558122</td></tr>\n",
       "\t<tr><th scope=row>companyOperatingRevenue</th><td>-34098.65              </td><td> 0.07153485            </td><td> 1                     </td><td>0.789115010634509506104</td></tr>\n",
       "</tbody>\n",
       "</table>\n"
      ],
      "text/latex": [
       "\\begin{tabular}{r|llll}\n",
       "  & loglik & Chisq & Df & Pr(>\\textbar{}Chi\\textbar{})\\\\\n",
       "\\hline\n",
       "\tNULL & -34164.94               &          NA             & NA                      &                      NA\\\\\n",
       "\tdirPopularity2\\_z & -34132.94               & 64.01656116             &  1                      & 0.000000000000001221245\\\\\n",
       "\tI(dirPopularity2\\_z\\textasciicircum{}2) & -34113.77               & 38.32578544             &  1                      & 0.000000000598663452145\\\\\n",
       "\tfourCycle2\\_z & -34105.66               & 16.21648219             &  1                      & 0.000056500393034841778\\\\\n",
       "\tgender\\_man & -34102.69               &  5.95425921             &  1                      & 0.014681770876384336866\\\\\n",
       "\tnationality\\_dk & -34099.86               &  5.65717293             &  1                      & 0.017384122286483671971\\\\\n",
       "\tentity\\_finb & -34098.68               &  2.34735018             &  1                      & 0.125496167710754558122\\\\\n",
       "\tcompanyOperatingRevenue & -34098.65               &  0.07153485             &  1                      & 0.789115010634509506104\\\\\n",
       "\\end{tabular}\n"
      ],
      "text/markdown": [
       "\n",
       "| <!--/--> | loglik | Chisq | Df | Pr(>|Chi|) | \n",
       "|---|---|---|---|---|---|---|---|\n",
       "| NULL | -34164.94               |          NA             | NA                      |                      NA | \n",
       "| dirPopularity2_z | -34132.94               | 64.01656116             |  1                      | 0.000000000000001221245 | \n",
       "| I(dirPopularity2_z^2) | -34113.77               | 38.32578544             |  1                      | 0.000000000598663452145 | \n",
       "| fourCycle2_z | -34105.66               | 16.21648219             |  1                      | 0.000056500393034841778 | \n",
       "| gender_man | -34102.69               |  5.95425921             |  1                      | 0.014681770876384336866 | \n",
       "| nationality_dk | -34099.86               |  5.65717293             |  1                      | 0.017384122286483671971 | \n",
       "| entity_finb | -34098.68               |  2.34735018             |  1                      | 0.125496167710754558122 | \n",
       "| companyOperatingRevenue | -34098.65               |  0.07153485             |  1                      | 0.789115010634509506104 | \n",
       "\n",
       "\n"
      ],
      "text/plain": [
       "                        loglik    Chisq       Df Pr(>|Chi|)             \n",
       "NULL                    -34164.94          NA NA                      NA\n",
       "dirPopularity2_z        -34132.94 64.01656116  1 0.000000000000001221245\n",
       "I(dirPopularity2_z^2)   -34113.77 38.32578544  1 0.000000000598663452145\n",
       "fourCycle2_z            -34105.66 16.21648219  1 0.000056500393034841778\n",
       "gender_man              -34102.69  5.95425921  1 0.014681770876384336866\n",
       "nationality_dk          -34099.86  5.65717293  1 0.017384122286483671971\n",
       "entity_finb             -34098.68  2.34735018  1 0.125496167710754558122\n",
       "companyOperatingRevenue -34098.65  0.07153485  1 0.789115010634509506104"
      ]
     },
     "metadata": {},
     "output_type": "display_data"
    }
   ],
   "source": [
    "anova(m05)"
   ]
  },
  {
   "cell_type": "code",
   "execution_count": 79,
   "metadata": {},
   "outputs": [
    {
     "data": {
      "text/html": [
       "<ol class=list-inline>\n",
       "\t<li>-58300.3694074496</li>\n",
       "\t<li>-58246.2020540509</li>\n",
       "</ol>\n"
      ],
      "text/latex": [
       "\\begin{enumerate*}\n",
       "\\item -58300.3694074496\n",
       "\\item -58246.2020540509\n",
       "\\end{enumerate*}\n"
      ],
      "text/markdown": [
       "1. -58300.3694074496\n",
       "2. -58246.2020540509\n",
       "\n",
       "\n"
      ],
      "text/plain": [
       "[1] -58300.37 -58246.20"
      ]
     },
     "metadata": {},
     "output_type": "display_data"
    },
    {
     "data": {
      "text/html": [
       "<ol class=list-inline>\n",
       "\t<li>-58300.3694074496</li>\n",
       "\t<li>-58214.3016886358</li>\n",
       "</ol>\n"
      ],
      "text/latex": [
       "\\begin{enumerate*}\n",
       "\\item -58300.3694074496\n",
       "\\item -58214.3016886358\n",
       "\\end{enumerate*}\n"
      ],
      "text/markdown": [
       "1. -58300.3694074496\n",
       "2. -58214.3016886358\n",
       "\n",
       "\n"
      ],
      "text/plain": [
       "[1] -58300.37 -58214.30"
      ]
     },
     "metadata": {},
     "output_type": "display_data"
    },
    {
     "data": {
      "text/html": [
       "<ol class=list-inline>\n",
       "\t<li>-58300.3694074496</li>\n",
       "\t<li>-58272.9276052271</li>\n",
       "</ol>\n"
      ],
      "text/latex": [
       "\\begin{enumerate*}\n",
       "\\item -58300.3694074496\n",
       "\\item -58272.9276052271\n",
       "\\end{enumerate*}\n"
      ],
      "text/markdown": [
       "1. -58300.3694074496\n",
       "2. -58272.9276052271\n",
       "\n",
       "\n"
      ],
      "text/plain": [
       "[1] -58300.37 -58272.93"
      ]
     },
     "metadata": {},
     "output_type": "display_data"
    },
    {
     "data": {
      "text/html": [
       "<ol class=list-inline>\n",
       "\t<li>-58300.3694074496</li>\n",
       "\t<li>-58205.0925746747</li>\n",
       "</ol>\n"
      ],
      "text/latex": [
       "\\begin{enumerate*}\n",
       "\\item -58300.3694074496\n",
       "\\item -58205.0925746747\n",
       "\\end{enumerate*}\n"
      ],
      "text/markdown": [
       "1. -58300.3694074496\n",
       "2. -58205.0925746747\n",
       "\n",
       "\n"
      ],
      "text/plain": [
       "[1] -58300.37 -58205.09"
      ]
     },
     "metadata": {},
     "output_type": "display_data"
    },
    {
     "data": {
      "text/html": [
       "<ol class=list-inline>\n",
       "\t<li>-34164.943391458</li>\n",
       "\t<li>-34098.6488184772</li>\n",
       "</ol>\n"
      ],
      "text/latex": [
       "\\begin{enumerate*}\n",
       "\\item -34164.943391458\n",
       "\\item -34098.6488184772\n",
       "\\end{enumerate*}\n"
      ],
      "text/markdown": [
       "1. -34164.943391458\n",
       "2. -34098.6488184772\n",
       "\n",
       "\n"
      ],
      "text/plain": [
       "[1] -34164.94 -34098.65"
      ]
     },
     "metadata": {},
     "output_type": "display_data"
    }
   ],
   "source": [
    "m01$loglik; \n",
    "m02$loglik; \n",
    "m03$loglik;\n",
    "m04$loglik;\n",
    "m05$loglik;"
   ]
  }
 ],
 "metadata": {
  "anaconda-cloud": {},
  "kernelspec": {
   "display_name": "R",
   "language": "R",
   "name": "ir"
  },
  "language_info": {
   "codemirror_mode": "r",
   "file_extension": ".r",
   "mimetype": "text/x-r-source",
   "name": "R",
   "pygments_lexer": "r",
   "version": "3.4.1"
  }
 },
 "nbformat": 4,
 "nbformat_minor": 2
}
